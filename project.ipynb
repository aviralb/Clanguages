{
  "nbformat": 4,
  "nbformat_minor": 0,
  "metadata": {
    "colab": {
      "name": "project.ipynb",
      "provenance": [],
      "include_colab_link": true
    },
    "kernelspec": {
      "name": "python3",
      "display_name": "Python 3"
    }
  },
  "cells": [
    {
      "cell_type": "markdown",
      "metadata": {
        "id": "view-in-github",
        "colab_type": "text"
      },
      "source": [
        "<a href=\"https://colab.research.google.com/github/aviralb/Clanguages/blob/master/project.ipynb\" target=\"_parent\"><img src=\"https://colab.research.google.com/assets/colab-badge.svg\" alt=\"Open In Colab\"/></a>"
      ]
    },
    {
      "cell_type": "code",
      "metadata": {
        "id": "JqgKREZzPUYn",
        "colab_type": "code",
        "colab": {
          "base_uri": "https://localhost:8080/",
          "height": 639
        },
        "outputId": "c1ccfb7a-99b5-4297-f195-06fd35d3e200"
      },
      "source": [
        "!pip install comtypes\n",
        "import sys\n",
        "import os\n",
        "import comtypes.client\n",
        "\n"
      ],
      "execution_count": 2,
      "outputs": [
        {
          "output_type": "stream",
          "text": [
            "Collecting comtypes\n",
            "\u001b[?25l  Downloading https://files.pythonhosted.org/packages/fb/b8/f8aa21774acb4535e32f6a89055876ca497ff806f9b1b1912b469284a61e/comtypes-1.1.7.zip (180kB)\n",
            "\r\u001b[K     |█▉                              | 10kB 18.4MB/s eta 0:00:01\r\u001b[K     |███▋                            | 20kB 3.1MB/s eta 0:00:01\r\u001b[K     |█████▍                          | 30kB 4.4MB/s eta 0:00:01\r\u001b[K     |███████▎                        | 40kB 2.9MB/s eta 0:00:01\r\u001b[K     |█████████                       | 51kB 3.5MB/s eta 0:00:01\r\u001b[K     |██████████▉                     | 61kB 4.2MB/s eta 0:00:01\r\u001b[K     |████████████▊                   | 71kB 4.8MB/s eta 0:00:01\r\u001b[K     |██████████████▌                 | 81kB 5.4MB/s eta 0:00:01\r\u001b[K     |████████████████▎               | 92kB 6.0MB/s eta 0:00:01\r\u001b[K     |██████████████████▏             | 102kB 4.5MB/s eta 0:00:01\r\u001b[K     |████████████████████            | 112kB 4.5MB/s eta 0:00:01\r\u001b[K     |█████████████████████▊          | 122kB 4.5MB/s eta 0:00:01\r\u001b[K     |███████████████████████▋        | 133kB 4.5MB/s eta 0:00:01\r\u001b[K     |█████████████████████████▍      | 143kB 4.5MB/s eta 0:00:01\r\u001b[K     |███████████████████████████▏    | 153kB 4.5MB/s eta 0:00:01\r\u001b[K     |█████████████████████████████   | 163kB 4.5MB/s eta 0:00:01\r\u001b[K     |██████████████████████████████▉ | 174kB 4.5MB/s eta 0:00:01\r\u001b[K     |████████████████████████████████| 184kB 4.5MB/s \n",
            "\u001b[?25hBuilding wheels for collected packages: comtypes\n",
            "  Building wheel for comtypes (setup.py) ... \u001b[?25l\u001b[?25hdone\n",
            "  Created wheel for comtypes: filename=comtypes-1.1.7-cp36-none-any.whl size=164545 sha256=d6d2e00fd6b76e9d151ac27a7722dab16541f460d420817190396b83c770771c\n",
            "  Stored in directory: /root/.cache/pip/wheels/a7/a5/e1/49a7738e763143027c7ec97514213055e6c5a978a385541668\n",
            "Successfully built comtypes\n",
            "Installing collected packages: comtypes\n",
            "Successfully installed comtypes-1.1.7\n"
          ],
          "name": "stdout"
        },
        {
          "output_type": "error",
          "ename": "ImportError",
          "evalue": "ignored",
          "traceback": [
            "\u001b[0;31m---------------------------------------------------------------------------\u001b[0m",
            "\u001b[0;31mImportError\u001b[0m                               Traceback (most recent call last)",
            "\u001b[0;32m<ipython-input-2-76806ca1bf65>\u001b[0m in \u001b[0;36m<module>\u001b[0;34m()\u001b[0m\n\u001b[1;32m      2\u001b[0m \u001b[0;32mimport\u001b[0m \u001b[0msys\u001b[0m\u001b[0;34m\u001b[0m\u001b[0;34m\u001b[0m\u001b[0m\n\u001b[1;32m      3\u001b[0m \u001b[0;32mimport\u001b[0m \u001b[0mos\u001b[0m\u001b[0;34m\u001b[0m\u001b[0;34m\u001b[0m\u001b[0m\n\u001b[0;32m----> 4\u001b[0;31m \u001b[0;32mimport\u001b[0m \u001b[0mcomtypes\u001b[0m\u001b[0;34m.\u001b[0m\u001b[0mclient\u001b[0m\u001b[0;34m\u001b[0m\u001b[0;34m\u001b[0m\u001b[0m\n\u001b[0m\u001b[1;32m      5\u001b[0m \u001b[0;34m\u001b[0m\u001b[0m\n",
            "\u001b[0;32m/usr/local/lib/python3.6/dist-packages/comtypes/__init__.py\u001b[0m in \u001b[0;36m<module>\u001b[0;34m()\u001b[0m\n\u001b[1;32m     21\u001b[0m \u001b[0;34m\u001b[0m\u001b[0m\n\u001b[1;32m     22\u001b[0m \u001b[0;32mfrom\u001b[0m \u001b[0mctypes\u001b[0m \u001b[0;32mimport\u001b[0m \u001b[0;34m*\u001b[0m\u001b[0;34m\u001b[0m\u001b[0;34m\u001b[0m\u001b[0m\n\u001b[0;32m---> 23\u001b[0;31m \u001b[0;32mfrom\u001b[0m \u001b[0m_ctypes\u001b[0m \u001b[0;32mimport\u001b[0m \u001b[0mCOMError\u001b[0m\u001b[0;34m\u001b[0m\u001b[0;34m\u001b[0m\u001b[0m\n\u001b[0m\u001b[1;32m     24\u001b[0m \u001b[0;32mfrom\u001b[0m \u001b[0mcomtypes\u001b[0m \u001b[0;32mimport\u001b[0m \u001b[0mpatcher\u001b[0m\u001b[0;34m\u001b[0m\u001b[0;34m\u001b[0m\u001b[0m\n\u001b[1;32m     25\u001b[0m \u001b[0;34m\u001b[0m\u001b[0m\n",
            "\u001b[0;31mImportError\u001b[0m: cannot import name 'COMError'",
            "",
            "\u001b[0;31m---------------------------------------------------------------------------\u001b[0;32m\nNOTE: If your import is failing due to a missing package, you can\nmanually install dependencies using either !pip or !apt.\n\nTo view examples of installing some common dependencies, click the\n\"Open Examples\" button below.\n\u001b[0;31m---------------------------------------------------------------------------\u001b[0m\n"
          ]
        }
      ]
    },
    {
      "cell_type": "code",
      "metadata": {
        "id": "M6ZkhuoOPiY_",
        "colab_type": "code",
        "colab": {}
      },
      "source": [
        "wdFormatPDF = 17\n",
        "\n",
        "in_file = os.path.abspath(sys.argv[1])\n",
        "out_file = os.path.abspath(sys.argv[2])\n",
        "\n",
        "word = comtypes.client.CreateObject('Word.Application')\n",
        "doc = word.Documents.Open(in_file)\n",
        "doc.SaveAs(out_file, FileFormat=wdFormatPDF)\n",
        "doc.Close()\n",
        "word.Quit()"
      ],
      "execution_count": 0,
      "outputs": []
    },
    {
      "cell_type": "code",
      "metadata": {
        "id": "X2gjQDZdQLMo",
        "colab_type": "code",
        "colab": {}
      },
      "source": [
        "import os\n",
        "import win32com.client\n",
        "import re\n",
        "path = (r'D:\\programing\\test')\n",
        "word_file_names = []\n",
        "word = win32com.client.Dispatch('Word.Application')\n",
        "for dirpath, dirnames, filenames in os.walk(path):\n",
        "    for f in filenames:  \n",
        "        if f.lower().endswith(\".docx\") :\n",
        "            new_name = f.replace(\".docx\", \".pdf\")\n",
        "            in_file =(dirpath + '/'+ f)\n",
        "            new_file =(dirpath + '/' + new_name)\n",
        "            doc = word.Documents.Open(in_file)\n",
        "            doc.SaveAs(new_file, FileFormat = 17)\n",
        "            doc.Close()\n",
        "        if f.lower().endswith(\".doc\"):\n",
        "            new_name = f.replace(\".doc\", \".pdf\")\n",
        "            in_file =(dirpath +'/' + f)\n",
        "            new_file =(dirpath +'/' + new_name)\n",
        "            doc = word.Documents.Open(in_file)\n",
        "            doc.SaveAs(new_file, FileFormat = 17)\n",
        "            doc.Close()\n",
        "word.Quit()"
      ],
      "execution_count": 0,
      "outputs": []
    }
  ]
}